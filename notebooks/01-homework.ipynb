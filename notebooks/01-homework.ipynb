{
 "cells": [
  {
   "cell_type": "markdown",
   "metadata": {},
   "source": [
    "## Easy (+0.1)\n",
    "\n",
    "Написать функцию, которая на вход принимает список, а возвращает словарь со среднием, медианой и модой, например вот такой: `{\"mean\": ..., \"median\": ..., \"mode\": ...}`.\n",
    "\n",
    "Пример:\n",
    "\n",
    "```python\n",
    "\n",
    "func([0, 1, 1, 10, 5, 4, 3])\n",
    "\n",
    "# Должно вернуть: {\"mean\": 3.4285, \"median\": 3, \"mode\": 1}\n",
    "\n",
    "```"
   ]
  },
  {
   "cell_type": "code",
   "execution_count": 12,
   "metadata": {
    "scrolled": true
   },
   "outputs": [
    {
     "data": {
      "text/plain": [
       "{'meen': 1.5, 'median': 1.5, 'mode': 1}"
      ]
     },
     "execution_count": 12,
     "metadata": {},
     "output_type": "execute_result"
    }
   ],
   "source": [
    "def func(a):\n",
    "    return {\"meen\": sum(a)/len(a), \"median\" : (sorted(a)[len(a)//2] + sorted(a)[(len(a)-1)//2])/2, \"mode\" : max(set(a), key=a.count)}\n",
    "func([1,2])"
   ]
  },
  {
   "cell_type": "markdown",
   "metadata": {},
   "source": [
    "## Medium (+0.4)\n",
    "\n",
    "https://www.kaggle.com/datasets/databanditofficial/dota-hero-stats\n",
    "\n",
    "Написать функцию, которая будет парсить csv-файл dota_hero_stats.csv\n",
    "\n",
    "Сигнатура функции:\n",
    "\n",
    "```\n",
    "def parse_csv(file_content: str) -> List[Dict]\n",
    "```\n",
    "\n",
    "Найти персонажа с максимальным количеством ног (сторонние библиотеки использовать нельзя)"
   ]
  },
  {
   "cell_type": "code",
   "execution_count": 30,
   "metadata": {},
   "outputs": [
    {
     "name": "stdout",
     "output_type": "stream",
     "text": [
      "Broodmother\n"
     ]
    }
   ],
   "source": [
    "def parse_csv(file_content: str):\n",
    "    lines = file_content.strip().split('\\n')\n",
    "    data = [tuple(line.split(',')) for line in lines[1:]]\n",
    "    return data\n",
    "\n",
    "def find_max_legs(heroes):\n",
    "    max_legs_hero = max(heroes, key=lambda hero: int(hero[3]), default=None)\n",
    "    return max_legs_hero\n",
    "\n",
    "with open('dota_hero_stats.csv', 'r') as file:\n",
    "    table = file.read()\n",
    "print(find_max_legs(parse_csv(table))[4])\n"
   ]
  }
 ],
 "metadata": {
  "kernelspec": {
   "display_name": "Python 3 (ipykernel)",
   "language": "python",
   "name": "python3"
  },
  "language_info": {
   "codemirror_mode": {
    "name": "ipython",
    "version": 3
   },
   "file_extension": ".py",
   "mimetype": "text/x-python",
   "name": "python",
   "nbconvert_exporter": "python",
   "pygments_lexer": "ipython3",
   "version": "3.10.12"
  }
 },
 "nbformat": 4,
 "nbformat_minor": 4
}
