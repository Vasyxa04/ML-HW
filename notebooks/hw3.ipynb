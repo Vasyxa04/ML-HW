{
 "cells": [
  {
   "cell_type": "markdown",
   "id": "720c6b97-5ac0-4267-a7bb-90c7ae562bb4",
   "metadata": {},
   "source": [
    "EASY"
   ]
  },
  {
   "cell_type": "code",
   "execution_count": 2,
   "id": "a39c47ab-88e6-495b-b947-5f8a6bb20001",
   "metadata": {},
   "outputs": [
    {
     "name": "stdout",
     "output_type": "stream",
     "text": [
      "0.9478448275862069\n"
     ]
    }
   ],
   "source": [
    "import pandas as pd\n",
    "import numpy as np\n",
    "import pickle\n",
    "from sklearn.model_selection import train_test_split\n",
    "from sklearn.linear_model import LogisticRegression\n",
    "from sklearn.metrics import accuracy_score\n",
    "\n",
    "with open('train.pickle', 'rb') as f:\n",
    "    train_data = pickle.load(f)\n",
    "\n",
    "X = train_data['features']\n",
    "y = train_data['labels']\n",
    "\n",
    "X_train, X_test, y_train, y_test = train_test_split(X, y, test_size=0.2, random_state=42)\n",
    "\n",
    "model = LogisticRegression(max_iter=1000)\n",
    "model.fit(X_train.reshape(X_train.shape[0], -1), y_train)\n",
    "\n",
    "y_pred = model.predict(X_test.reshape(X_test.shape[0], -1))\n",
    "\n",
    "accuracy = accuracy_score(y_test, y_pred)\n",
    "print(accuracy)\n"
   ]
  },
  {
   "cell_type": "code",
   "execution_count": 3,
   "id": "33b464bd-92b2-42b8-bc5d-75de6a52f080",
   "metadata": {},
   "outputs": [
    {
     "name": "stdout",
     "output_type": "stream",
     "text": [
      "1\n"
     ]
    }
   ],
   "source": [
    "from sklearn.metrics import confusion_matrix\n",
    "\n",
    "conf_matrix = confusion_matrix(y_test, y_pred)\n",
    "\n",
    "most_confused_class = np.argmax(np.sum(conf_matrix, axis=0))\n",
    "\n",
    "print(most_confused_class)\n"
   ]
  },
  {
   "cell_type": "markdown",
   "id": "144db091-db07-4fc6-92f0-6455018e0a0f",
   "metadata": {},
   "source": [
    "Для данной задачи я выбрал метрику accuracy, так как она учитывает все классы равномерно, не имея предвзятости к большим классам"
   ]
  },
  {
   "cell_type": "markdown",
   "id": "662c4c0a-2686-487a-bdd2-a4b3da55d65a",
   "metadata": {},
   "source": [
    "MEDIUM"
   ]
  },
  {
   "cell_type": "code",
   "execution_count": 4,
   "id": "509dce14-5f2b-402b-9449-421766541f85",
   "metadata": {},
   "outputs": [],
   "source": [
    "from sklearn.neighbors import KNeighborsClassifier\n",
    "from sklearn.naive_bayes import GaussianNB\n",
    "from sklearn.svm import SVC"
   ]
  },
  {
   "cell_type": "code",
   "execution_count": 5,
   "id": "5f8d5726-abd8-4771-a00f-ccf3061d6eec",
   "metadata": {},
   "outputs": [],
   "source": [
    "logistic_regression_model = LogisticRegression(max_iter=1000)\n",
    "logistic_regression_model.fit(X_train.reshape(X_train.shape[0], -1), y_train)\n",
    "logistic_regression_pred = logistic_regression_model.predict(X_test.reshape(X_test.shape[0], -1))\n",
    "logistic_regression_accuracy = accuracy_score(y_test, logistic_regression_pred)"
   ]
  },
  {
   "cell_type": "code",
   "execution_count": 6,
   "id": "df48feaf-2584-4e31-b5ea-bb0848cdcd99",
   "metadata": {},
   "outputs": [],
   "source": [
    "knn_model = KNeighborsClassifier()\n",
    "knn_model.fit(X_train.reshape(X_train.shape[0], -1), y_train)\n",
    "knn_pred = knn_model.predict(X_test.reshape(X_test.shape[0], -1))\n",
    "knn_accuracy = accuracy_score(y_test, knn_pred)"
   ]
  },
  {
   "cell_type": "code",
   "execution_count": 7,
   "id": "42294f6e-ac9b-4f1e-968e-718bd57a1770",
   "metadata": {},
   "outputs": [],
   "source": [
    "nb_classifier = GaussianNB()\n",
    "nb_classifier.fit(X_train.reshape(X_train.shape[0], -1), y_train)\n",
    "nb_pred = nb_classifier.predict(X_test.reshape(X_test.shape[0], -1))\n",
    "nb_accuracy = accuracy_score(y_test, nb_pred)\n",
    "\n"
   ]
  },
  {
   "cell_type": "code",
   "execution_count": 8,
   "id": "73638cb0-1256-45ec-b423-706aebe10afe",
   "metadata": {},
   "outputs": [],
   "source": [
    "svm_linear_model = SVC(kernel='linear')\n",
    "svm_rbf_model = SVC(kernel='rbf')\n",
    "svm_poly_model = SVC(kernel='poly')"
   ]
  },
  {
   "cell_type": "code",
   "execution_count": null,
   "id": "3a2cb80a-b2fe-42a9-8aec-9aacce3a9a1d",
   "metadata": {},
   "outputs": [],
   "source": [
    "svm_linear_model.fit(X_train.reshape(X_train.shape[0], -1), y_train)\n",
    "svm_rbf_model.fit(X_train.reshape(X_train.shape[0], -1), y_train)\n",
    "svm_poly_model.fit(X_train.reshape(X_train.shape[0], -1), y_train)"
   ]
  },
  {
   "cell_type": "code",
   "execution_count": 10,
   "id": "25b36596-f346-4ef6-907f-7459aa36e74f",
   "metadata": {},
   "outputs": [],
   "source": [
    "svm_linear_pred = svm_linear_model.predict(X_test.reshape(X_test.shape[0], -1))\n",
    "svm_rbf_pred = svm_rbf_model.predict(X_test.reshape(X_test.shape[0], -1))\n",
    "svm_poly_pred = svm_poly_model.predict(X_test.reshape(X_test.shape[0], -1))"
   ]
  },
  {
   "cell_type": "code",
   "execution_count": 11,
   "id": "b2e8f44b-72a9-40da-b60a-5d9f06eb25f3",
   "metadata": {},
   "outputs": [],
   "source": [
    "svm_linear_accuracy = accuracy_score(y_test, svm_linear_pred)\n",
    "svm_rbf_accuracy = accuracy_score(y_test, svm_rbf_pred)\n",
    "svm_poly_accuracy = accuracy_score(y_test, svm_poly_pred)"
   ]
  },
  {
   "cell_type": "code",
   "execution_count": 12,
   "id": "c733810f-b816-4035-ac2f-64c9f45f49b1",
   "metadata": {},
   "outputs": [
    {
     "name": "stdout",
     "output_type": "stream",
     "text": [
      "log_reg: 0.9478448275862069\n",
      "kNN: 0.8721264367816092\n",
      "НБК: 0.16307471264367815\n",
      "SVM_linear: 0.957183908045977\n",
      "SVM_RBF: 0.8807471264367817\n",
      "SVM_poly: 0.7156609195402299\n"
     ]
    }
   ],
   "source": [
    "print(\"log_reg:\", logistic_regression_accuracy)\n",
    "print(\"kNN:\", knn_accuracy)\n",
    "print(\"НБК:\", nb_accuracy)\n",
    "print(\"SVM_linear:\", svm_linear_accuracy)\n",
    "print(\"SVM_RBF:\", svm_rbf_accuracy)\n",
    "print(\"SVM_poly:\", svm_poly_accuracy)"
   ]
  },
  {
   "cell_type": "markdown",
   "id": "74b0647e-5136-400a-8d43-c16cf76a4fe5",
   "metadata": {},
   "source": [
    "наилучшие результаты у логистической регрессии и линейного SVM. у kNN и RBF SVM результаты чуть ниже, но тоже норм. У полиномиального SVM похуже, а НБС вообще показал ужастную точность. Предполагаю, что это из-за того, что метод предполагает, что каждый признак независимо влияет на классификацию"
   ]
  }
 ],
 "metadata": {
  "kernelspec": {
   "display_name": "Python 3 (ipykernel)",
   "language": "python",
   "name": "python3"
  },
  "language_info": {
   "codemirror_mode": {
    "name": "ipython",
    "version": 3
   },
   "file_extension": ".py",
   "mimetype": "text/x-python",
   "name": "python",
   "nbconvert_exporter": "python",
   "pygments_lexer": "ipython3",
   "version": "3.10.12"
  }
 },
 "nbformat": 4,
 "nbformat_minor": 5
}
